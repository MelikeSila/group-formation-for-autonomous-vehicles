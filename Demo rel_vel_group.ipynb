{
 "cells": [
  {
   "cell_type": "code",
   "execution_count": 31,
   "metadata": {},
   "outputs": [
    {
     "ename": "TypeError",
     "evalue": "find_planning_problem_by_id() missing 1 required positional argument: 'planning_problem_id'",
     "output_type": "error",
     "traceback": [
      "\u001b[0;31m---------------------------------------------------------------------------\u001b[0m",
      "\u001b[0;31mTypeError\u001b[0m                                 Traceback (most recent call last)",
      "\u001b[0;32m<ipython-input-31-66e6a31312a1>\u001b[0m in \u001b[0;36m<module>\u001b[0;34m\u001b[0m\n\u001b[1;32m     14\u001b[0m \u001b[0;31m#crf = CommonRoadFileReader(file_path)\u001b[0m\u001b[0;34m\u001b[0m\u001b[0;34m\u001b[0m\u001b[0;34m\u001b[0m\u001b[0m\n\u001b[1;32m     15\u001b[0m \u001b[0;31m#scenario, planning_problem_set = crf.open()\u001b[0m\u001b[0;34m\u001b[0m\u001b[0;34m\u001b[0m\u001b[0;34m\u001b[0m\u001b[0m\n\u001b[0;32m---> 16\u001b[0;31m \u001b[0ma\u001b[0m\u001b[0;34m=\u001b[0m\u001b[0mcommonroad\u001b[0m\u001b[0;34m.\u001b[0m\u001b[0mplanning\u001b[0m\u001b[0;34m.\u001b[0m\u001b[0mplanning_problem\u001b[0m\u001b[0;34m.\u001b[0m\u001b[0mPlanningProblemSet\u001b[0m\u001b[0;34m.\u001b[0m\u001b[0mfind_planning_problem_by_id\u001b[0m\u001b[0;34m(\u001b[0m\u001b[0;36m365\u001b[0m\u001b[0;34m)\u001b[0m\u001b[0;34m\u001b[0m\u001b[0;34m\u001b[0m\u001b[0m\n\u001b[0m\u001b[1;32m     17\u001b[0m \u001b[0;31m# calculate_rel_vel_group\u001b[0m\u001b[0;34m\u001b[0m\u001b[0;34m\u001b[0m\u001b[0;34m\u001b[0m\u001b[0m\n\u001b[1;32m     18\u001b[0m \u001b[0mgrouparray\u001b[0m\u001b[0;34m=\u001b[0m\u001b[0;34m[\u001b[0m\u001b[0;36m365\u001b[0m\u001b[0;34m,\u001b[0m \u001b[0;36m364\u001b[0m\u001b[0;34m,\u001b[0m \u001b[0;36m427\u001b[0m\u001b[0;34m,\u001b[0m \u001b[0;36m357\u001b[0m\u001b[0;34m]\u001b[0m\u001b[0;34m\u001b[0m\u001b[0;34m\u001b[0m\u001b[0m\n",
      "\u001b[0;31mTypeError\u001b[0m: find_planning_problem_by_id() missing 1 required positional argument: 'planning_problem_id'"
     ]
    }
   ],
   "source": [
    "import os\n",
    "#import matplotlib.pyplot as plt\n",
    "#from IPython import display\n",
    "from rel_vel import rel_vel_measure\n",
    "import commonroad.planning\n",
    "# import functions to read xml file and visualize commonroad objects\n",
    "from commonroad.common.file_reader import CommonRoadFileReader\n",
    "from commonroad.visualization.draw_dispatch_cr import draw_object\n",
    "\n",
    "# generate path of the file to be opened\n",
    "file_path = \"C-USA_US101-30_1_T-1\"\n",
    "\n",
    "# read in the scenario and planning problem set\n",
    "#crf = CommonRoadFileReader(file_path)\n",
    "#scenario, planning_problem_set = crf.open()\n",
    "a=commonroad.planning.planning_problem.PlanningProblemSet.find_planning_problem_by_id(365)\n",
    "# calculate_rel_vel_group\n",
    "grouparray=[365, 364, 427, 357]\n",
    "#vel_measure=rel_vel_measure.rel_vel_measure(grouparray)\n",
    "print(a)"
   ]
  },
  {
   "cell_type": "code",
   "execution_count": null,
   "metadata": {},
   "outputs": [],
   "source": []
  }
 ],
 "metadata": {
  "kernelspec": {
   "display_name": "Python 3",
   "language": "python",
   "name": "python3"
  },
  "language_info": {
   "codemirror_mode": {
    "name": "ipython",
    "version": 3
   },
   "file_extension": ".py",
   "mimetype": "text/x-python",
   "name": "python",
   "nbconvert_exporter": "python",
   "pygments_lexer": "ipython3",
   "version": "3.7.7"
  }
 },
 "nbformat": 4,
 "nbformat_minor": 2
}
