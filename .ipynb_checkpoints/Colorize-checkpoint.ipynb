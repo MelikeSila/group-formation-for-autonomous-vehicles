{
 "cells": [
  {
   "cell_type": "code",
   "execution_count": 5,
   "metadata": {
    "scrolled": false
   },
   "outputs": [
    {
     "name": "stdout",
     "output_type": "stream",
     "text": [
      "#123456\n",
      "#000000\n"
     ]
    },
    {
     "data": {
      "image/png": "[encoded data removed]",
      "text/plain": [
       "<Figure size 432x288 with 1 Axes>"
      ]
     },
     "metadata": {
      "needs_background": "light"
     },
     "output_type": "display_data"
    }
   ],
   "source": [
    "import os\n",
    "import matplotlib.pyplot as plt\n",
    "from IPython import display\n",
    "from brute_force import calculate_score\n",
    "import commonroad.planning\n",
    "# import functions to read xml file and visualize commonroad objects\n",
    "from commonroad.common.file_reader import CommonRoadFileReader\n",
    "from commonroad.visualization.draw_dispatch_cr import draw_object\n",
    "import scenarios \n",
    "import matplotlib.patches as patches\n",
    "from brute_force import Colorize_groups\n",
    "import Convert_groups\n",
    "\n",
    "\n",
    "# generate path of the file to be opened\n",
    "file_path = \"data_files/C-USA_US101-30_1_T-1.xml\"\n",
    "#file_path = \"scenarios/DEU_A9-1_1_T-1.xml\"\n",
    "#ile_path = \"scenarios/CHN_Sha-4_1_T-1.xml\"\n",
    "#file_path = \"CHN_Cho-2_1_T-1.xml\"\n",
    "\n",
    "# read in the scenario and planning problem set\n",
    "crf = CommonRoadFileReader(file_path)\n",
    "scenario, planning_problem_set = crf.open()\n",
    "\n",
    "groups=[]\n",
    "# calculate_scores\n",
    "grouparray=[[328],[]]\n",
    "#groups=Convert_groups.conv_to_obj(scenario, planning_problem_set, grouparray)\n",
    "#grouparray=[[365, 364], [427, 357]]\n",
    "for group in grouparray:\n",
    "    groups.append(Convert_groups.conv_to_obj(scenario, planning_problem_set, group))\n",
    "a=groups[0]\n",
    "#print(a[1].initial_state.position[0])\n",
    "#rint (commonroad.planning.planning_problem.PlanningProblemSet.planning_problem_dict)\n",
    "#groups, scores=calculate_score.get_assignments_scores(scenario, planning_problem_set, 2, 1, 10, 1)\n",
    "print (groups)\n",
    "\n",
    "# plot the scenario for 40 time step, here each time step corresponds to 0.1 second\n",
    "for i in range(0, 10):\n",
    "    # uncomment to clear previous graph\n",
    "    display.clear_output(wait=False)\n",
    "    #draw_params={'shape':{ 'rectancle': {'facecolor':'#a99999'}}}\n",
    "    fig, ax=plt.subplots(1)\n",
    "    # plot the scenario at different time step\n",
    "    plot_limits = [-40, 120, -20, 30]\n",
    "    draw_object(scenario.lanelet_network, plot_limits=plot_limits)\n",
    "    Colorize_groups.colorize_groups(groups, ax)\n",
    "    #raw_object(commonroad.planning.planning_problem.PlanningProblemSet.find_planning_problem_by_id(planning_problem_set, 2), draw_params=draw_params)\n",
    "    #ect=patches.Rectangle((0,0),5,2,linewidth=1,edgecolor='#880000', facecolor='#998822')\n",
    "    #x.add_patch(rect)\n",
    "    # plot the planning problem set\n",
    "    draw_object(planning_problem_set)\n",
    "    plt.gca().set_aspect('equal')\n",
    "    plt.show()"
   ]
  },
  {
   "cell_type": "code",
   "execution_count": 2,
   "metadata": {},
   "outputs": [
    {
     "name": "stdout",
     "output_type": "stream",
     "text": [
      "[<commonroad.planning.planning_problem.PlanningProblem object at 0x7f9f5e814910>, <commonroad.planning.planning_problem.PlanningProblem object at 0x7f9f5e08ea50>, <commonroad.planning.planning_problem.PlanningProblem object at 0x7f9f5e08eb10>, <commonroad.planning.planning_problem.PlanningProblem object at 0x7f9f5e08ebd0>]\n"
     ]
    }
   ],
   "source": [
    "print(list(planning_problem_set.planning_problem_dict.values()))"
   ]
  },
  {
   "cell_type": "code",
   "execution_count": 3,
   "metadata": {},
   "outputs": [
    {
     "ename": "NameError",
     "evalue": "name 'scores' is not defined",
     "output_type": "error",
     "traceback": [
      "\u001b[0;31m---------------------------------------------------------------------------\u001b[0m",
      "\u001b[0;31mNameError\u001b[0m                                 Traceback (most recent call last)",
      "\u001b[0;32m<ipython-input-3-1acc7ac23a50>\u001b[0m in \u001b[0;36m<module>\u001b[0;34m()\u001b[0m\n\u001b[0;32m----> 1\u001b[0;31m \u001b[0mprint\u001b[0m\u001b[0;34m(\u001b[0m\u001b[0mscores\u001b[0m\u001b[0;34m)\u001b[0m\u001b[0;34m\u001b[0m\u001b[0;34m\u001b[0m\u001b[0m\n\u001b[0m",
      "\u001b[0;31mNameError\u001b[0m: name 'scores' is not defined"
     ]
    }
   ],
   "source": [
    "print(scores)"
   ]
  },
  {
   "cell_type": "code",
   "execution_count": null,
   "metadata": {},
   "outputs": [],
   "source": [
    "best_groups=calculate_score.get_best_assignment(groups,scores)\n"
   ]
  },
  {
   "cell_type": "code",
   "execution_count": null,
   "metadata": {},
   "outputs": [],
   "source": [
    "print (best_groups)\n"
   ]
  },
  {
   "cell_type": "code",
   "execution_count": null,
   "metadata": {},
   "outputs": [],
   "source": [
    "for group in groups[0]:\n",
    "    print(group)"
   ]
  }
 ],
 "metadata": {
  "kernelspec": {
   "display_name": "Python 3",
   "language": "python",
   "name": "python3"
  },
  "language_info": {
   "codemirror_mode": {
    "name": "ipython",
    "version": 3
   },
   "file_extension": ".py",
   "mimetype": "text/x-python",
   "name": "python",
   "nbconvert_exporter": "python",
   "pygments_lexer": "ipython3",
   "version": "3.7.4"
  }
 },
 "nbformat": 4,
 "nbformat_minor": 4
}
