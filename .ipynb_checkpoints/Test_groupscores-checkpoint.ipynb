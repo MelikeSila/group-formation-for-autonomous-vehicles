{
 "cells": [
  {
   "cell_type": "code",
   "execution_count": 1,
   "metadata": {
    "scrolled": false
   },
   "outputs": [
    {
     "data": {
      "text/plain": [
       "<Figure size 2000x1000 with 1 Axes>"
      ]
     },
     "metadata": {},
     "output_type": "display_data"
    }
   ],
   "source": [
    "import os\n",
    "import matplotlib.pyplot as plt\n",
    "from IPython import display\n",
    "from brute_force import calculate_score\n",
    "import commonroad.planning\n",
    "# import functions to read xml file and visualize commonroad objects\n",
    "from commonroad.common.file_reader import CommonRoadFileReader\n",
    "from commonroad.visualization.draw_dispatch_cr import draw_object\n",
    "\n",
    "# generate path of the file to be opened\n",
    "#file_path = \"C-USA_US101-30_1_T-1.xml\"\n",
    "file_path = \"data_files/DEU_A9-1_1_T-1.xml\"\n",
    "#file_path = \"data_files/CHN_Sha-4_1_T-1.xml\"\n",
    "#file_path = \"data_files/CHN_Cho-2_1_T-1.xml\"\n",
    "\n",
    "# read in the scenario and planning problem set\n",
    "crf = CommonRoadFileReader(file_path)\n",
    "scenario, planning_problem_set = crf.open()\n",
    "\n",
    "# calculate_scores\n",
    "grouparray=[365, 364, 427, 357]\n",
    "groups, scores=calculate_score.get_assignments_scores(scenario, planning_problem_set, 2, 1, 10, 1)\n",
    "\n",
    "\n",
    "# plot the scenario for 40 time step, here each time step corresponds to 0.1 second\n",
    "for i in range(0, 10):\n",
    "    # uncomment to clear previous graph\n",
    "    display.clear_output(wait=True)\n",
    "    \n",
    "    fig=plt.figure(figsize=(20, 10))\n",
    "    # plot the scenario at different time step\n",
    "    draw_object(scenario, draw_params={'dynamic_obstacle':{'show_label':True}})\n",
    "    # plot the planning problem set\n",
    "    draw_object(planning_problem_set)\n",
    "    plt.gca().set_aspect('equal')\n",
    "    plt.show()"
   ]
  },
  {
   "cell_type": "code",
   "execution_count": 2,
   "metadata": {},
   "outputs": [
    {
     "name": "stdout",
     "output_type": "stream",
     "text": [
      "[<commonroad.planning.planning_problem.PlanningProblem object at 0x7f181f1176d0>]\n"
     ]
    }
   ],
   "source": [
    "print(list(planning_problem_set.planning_problem_dict.values()))"
   ]
  },
  {
   "cell_type": "code",
   "execution_count": 3,
   "metadata": {},
   "outputs": [
    {
     "name": "stdout",
     "output_type": "stream",
     "text": [
      "[inf, inf, 148.89811694959633, inf, inf, inf, inf, inf, inf, inf, inf, inf, inf, inf, inf, inf, inf, inf, inf, inf, inf, inf, inf, inf, inf, inf, inf, inf, inf, inf, inf, inf, 189.5188525124081, inf, inf, 175.31112135056236, 277.02195094200914, inf, inf, inf, 188.67100263504548, 196.86266323511043, inf, inf, inf, 282.1090502061849, 294.595416061536, inf, inf, inf, inf, inf, inf, inf, inf, inf, inf, inf, inf, 190.3694080959409, 193.45502948863873, inf, inf, inf, 278.72306210907476, 291.19860513974515, inf, inf, inf, inf, inf, inf, inf, inf, inf, inf, inf, inf, 191.7593297339135, 150.79534762665136, inf, inf, inf, 292.8943048944704, 154.893989931321, inf, inf, inf, inf, inf, inf, inf, inf, inf, inf, inf, inf, inf, inf, inf, inf, inf, inf, inf, inf, inf, inf, inf, inf, inf, inf, inf, inf, inf, inf, inf, inf, inf, inf, inf, inf, inf, 228.6140876893727, 228.61408768937272, 359.56133609541206, inf, inf, inf, 228.6140876893727, 274.3149491243375, 354.4742368312362, inf, 230.30978744409796, 354.4742368312363, inf, inf, inf, 230.31519885643834, 269.2116156231406, 354.4742368312362, inf, 183.94899441504495, 201.95647904862597, inf, inf, inf, 269.2116156231406, 145.12014298890261, 226.68165302993262, inf, inf, inf, inf, 228.61408768937272, 183.94899441504495, 189.05232791624186, inf, inf, inf, inf, 354.4742368312363, 200.26077929390073, 231.78498653112953, inf, inf, inf, inf, 359.561336095412, 231.7687522941084, 203.65759021569164, inf, inf, inf, inf, inf, inf, inf, inf, inf, inf, inf, inf, inf, inf, inf, inf, inf, 306.06637357859984, 306.06637357859984, 178.2737897772962, 220.80375237050418, 263.53641098539185, 268.62351024956763, inf, inf, inf, inf, 306.06637357859984, 178.2737897772962, 183.37712327849314, 263.53641098539185, inf, 215.12854773275544]\n"
     ]
    }
   ],
   "source": [
    "print(scores)"
   ]
  },
  {
   "cell_type": "code",
   "execution_count": 4,
   "metadata": {},
   "outputs": [],
   "source": [
    "best_groups=calculate_score.get_best_assignment(groups,scores)\n"
   ]
  },
  {
   "cell_type": "code",
   "execution_count": 5,
   "metadata": {},
   "outputs": [
    {
     "name": "stdout",
     "output_type": "stream",
     "text": [
      "[[200], [201, 202, 205], [203], [204]]\n"
     ]
    }
   ],
   "source": [
    "print (best_groups)\n"
   ]
  }
 ],
 "metadata": {
  "kernelspec": {
   "display_name": "Python 3",
   "language": "python",
   "name": "python3"
  },
  "language_info": {
   "codemirror_mode": {
    "name": "ipython",
    "version": 3
   },
   "file_extension": ".py",
   "mimetype": "text/x-python",
   "name": "python",
   "nbconvert_exporter": "python",
   "pygments_lexer": "ipython3",
   "version": "3.7.4"
  }
 },
 "nbformat": 4,
 "nbformat_minor": 4
}
