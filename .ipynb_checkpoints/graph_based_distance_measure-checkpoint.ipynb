{
 "cells": [
  {
   "cell_type": "markdown",
   "metadata": {},
   "source": [
    "### SAMPLE USAGE\n",
    "#### 1) Read XML file\n",
    "\n",
    "We Assume that we will have a **xml file** which we can read **first initial** state of the vehicles and \n",
    "**lanelet network** of way. We directly took this **reading** from tutorial session."
   ]
  },
  {
   "cell_type": "code",
   "execution_count": null,
   "metadata": {},
   "outputs": [],
   "source": [
    "import os\n",
    "import matplotlib.pyplot as plt\n",
    "from IPython import display\n",
    "\n",
    "# import functions to read xml file and visualize commonroad objects\n",
    "from commonroad.common.file_reader import CommonRoadFileReader\n",
    "from commonroad.visualization.draw_dispatch_cr import draw_object\n",
    "\n",
    "# generate path of the file to be opened\n",
    "#file_path = \"ZAM_Tutorial-1_1_T-1.xml\"\n",
    "#file_path = \"ZAM_Tjunction-1_66_T-1.xml\"\n",
    "file_path = \"CHN_Cho-2_1_T-1.xml\"\n",
    "\n",
    "# read in the scenario and planning problem set\n",
    "crf = CommonRoadFileReader(file_path)\n",
    "scenario, planning_problem_set = crf.open()\n",
    "\n",
    "# plot the scenario for 40 time step, here each time step corresponds to 0.1 second\n",
    "for i in range(0, 40):\n",
    "    # uncomment to clear previous graph\n",
    "    display.clear_output(wait=True)\n",
    "    \n",
    "    plt.figure(figsize=(20, 10))\n",
    "    # plot the scenario at different time step\n",
    "    draw_object(scenario, draw_params={'time_begin': i})\n",
    "    # plot the planning problem set\n",
    "    draw_object(planning_problem_set)\n",
    "    plt.gca().set_aspect('equal')\n",
    "    plt.show()\n",
    "    break\n"
   ]
  },
  {
   "cell_type": "markdown",
   "metadata": {},
   "source": [
    "#### 2) Create Graph"
   ]
  },
  {
   "cell_type": "code",
   "execution_count": null,
   "metadata": {
    "scrolled": false
   },
   "outputs": [],
   "source": [
    "#distance\n",
    "# lanelet_id\n",
    "#adj_left=None, adj_left_same_direction=None, adj_right=None, ad_right_same_direction=None, \n",
    "#predecessor, succesor\n",
    "#line_marking_right_vertices\n",
    "\n",
    "########## Sample Usage CreateLaneletGraph ##########\n",
    "##################################################\n",
    "from GraphBasedDistanceMeasure import CreateLaneletGraph\n",
    "options1 = {\n",
    "    'node_color': 'lightgreen',\n",
    "    'node_size': 500,\n",
    "    'width': 1,\n",
    "}\n",
    "options2 = {\n",
    "    'node_color': 'green',\n",
    "    'node_size': 500,\n",
    "    'width': 1,\n",
    "}\n",
    "\n",
    "import networkx as nx\n",
    "lanelets = scenario.lanelet_network.lanelets\n",
    "G = CreateLaneletGraph(lanelets)\n",
    "plt.subplot(121)\n",
    "nx.draw_circular(G.nodes[lanelets[0].lanelet_id]['graph'], with_labels=True, font_weight='bold', **options1) #for reaching the graph of lanelet with id i\n",
    "plt.subplot(122)\n",
    "nx.draw_kamada_kawai(G,with_labels=True, font_weight='bold', **options2)\n",
    "plt.show()"
   ]
  },
  {
   "cell_type": "code",
   "execution_count": null,
   "metadata": {},
   "outputs": [],
   "source": [
    "import matplotlib.pyplot as plt\n",
    "import matplotlib.image as mpimg\n",
    "plt.rcParams['figure.figsize'] = (25.0, 12.5) # set default size of plots\n",
    "img=mpimg.imread('SampleGraph.jpg')\n",
    "imgplot = plt.imshow(img)\n",
    "plt.show()\n"
   ]
  },
  {
   "cell_type": "code",
   "execution_count": null,
   "metadata": {
    "scrolled": false
   },
   "outputs": [],
   "source": [
    "from GraphBasedDistanceMeasure import V\n",
    "print(G.nodes)\n",
    "plt.rcParams['figure.figsize'] = (10.0, 10.0) # set default size of plots\n",
    "plt.rcParams['image.interpolation'] = 'nearest'\n",
    "plt.rcParams['image.cmap'] = 'gray'\n",
    "nx.draw(G,with_labels=True, font_weight='bold', **options2)\n",
    "plt.show()\n",
    "i = 1\n",
    "for o in scenario.obstacles:\n",
    "    #print(lanelet)\n",
    "    plt.subplot(1, len(scenario.obstacles), i)\n",
    "    lanelet_of_obstacle, node = V(o)\n",
    "    nx.draw(G.nodes[lanelet_of_obstacle]['graph'], with_labels=True, font_weight='bold', **options1) #for reaching the graph of lanelet with id i\n",
    "    i = i+1\n",
    "plt.show()"
   ]
  },
  {
   "cell_type": "markdown",
   "metadata": {},
   "source": [
    "#### 3) Set Initial Vertex of the Given Vehicles ( v(c0)):\n",
    "\n",
    "According to paper we have just **initial states** of the vehicles so we just use the **initial states** of the vehicles in the xml file. We will set vehicle's initial states via a method called **setInitialVertextoVehicles** with respect to paper."
   ]
  },
  {
   "cell_type": "code",
   "execution_count": null,
   "metadata": {
    "scrolled": true
   },
   "outputs": [],
   "source": [
    "#######  SAMPLE USAGE  #######\n",
    "##########  Vertex  ##########\n",
    "##############################\n",
    "from GraphBasedDistanceMeasure import V\n",
    "obstacles = scenario.obstacles\n",
    "for o in obstacles:\n",
    "    print(\"obstacle id: \", o.obstacle_id)\n",
    "    lanelet, node= V(o)\n",
    "    print(\"initial lanelet: \", lanelet, \"| initial node of the obstacle in the lanelet: \", node)\n",
    "    print(\"_______________________\")\n",
    "    "
   ]
  },
  {
   "cell_type": "code",
   "execution_count": null,
   "metadata": {
    "scrolled": false
   },
   "outputs": [],
   "source": [
    "###################### SAMPLE USAGE ############################\n",
    "##########  R(v(c)): reachable points of an obstacle  ##########\n",
    "################################################################\n",
    "from GraphBasedDistanceMeasure import V, R   \n",
    "for o in obstacles:\n",
    "    v1, node = V(o)\n",
    "    print(\"vehicle id: \", o.obstacle_id)\n",
    "    print(\"initial lanelet id: \", v1)\n",
    "    print(\"initial node of the initial lanelet: \", node)\n",
    "    print()\n",
    "    print(\"R(v1): \", R(v1))\n",
    "    print(\"______________________________________________\")"
   ]
  },
  {
   "cell_type": "code",
   "execution_count": null,
   "metadata": {},
   "outputs": [],
   "source": [
    "#################### SAMPLE USAGE #########################\n",
    "########## M(v(c0), v(c1)) = R(v(c0)) n R (v(c1)) ##########\n",
    "###########################################################\n",
    "c0 = obstacles[3]\n",
    "#c1 = obstacles[1]  # obstacle 1 ve 2 icin calis bunlar son laneletteler. it can cause a bug\n",
    "#c1 = obstacles[2]\n",
    "c1 = obstacles[6]\n",
    "v1, node1 = V(c0) \n",
    "v2, node2 = V(c1)\n",
    "print(\"initial 1:\", v1)\n",
    "print(\"initial 2:\", v2)\n",
    "r1, r2 = dict(), dict()\n",
    "r1 = R(v1)\n",
    "r2 = R(v2)\n",
    "# also check initial states because they can meet at last lanelet\n",
    "\n",
    "print(\"reachable points 1: \", r1)\n",
    "print(\"reachable points 2: \", r2)\n",
    "common_vertices = []\n",
    "\"\"\"\n",
    "for key in r1.keys():\n",
    "    for k in r2.keys():\n",
    "        if k == key or k == r1[key][0]:\n",
    "            common_vertices.append(k)\n",
    "        if r2[k][0] == key or r2[k][0] == r1[key][0]:\n",
    "            common_vertices.append(r2[k][0])\n",
    "            \n",
    "common_vertices = list(set(common_vertices)) # make unique the list\n",
    "print(common_vertices)\n",
    "\"\"\""
   ]
  },
  {
   "cell_type": "code",
   "execution_count": null,
   "metadata": {},
   "outputs": [],
   "source": [
    "from GraphBasedDistanceMeasure import M\n",
    "M(v1,v2)"
   ]
  },
  {
   "cell_type": "code",
   "execution_count": null,
   "metadata": {},
   "outputs": [],
   "source": [
    "x = dict()\n",
    "print(x)\n",
    "if   not x:  \n",
    "    print(\"vvv\")\n",
    "x[23] =  [3]\n",
    "x[23] += [4] \n",
    "x[24] = [5]\n",
    "x[25] = [7]\n",
    "\n",
    "search_value = 7\n",
    "#x = dict_list\n",
    "values = list(x.values())\n",
    "keys = list(x.keys())\n",
    "\n",
    "if bool(x):\n",
    "    print(\"dolduuuu\")\n",
    "    \n",
    "    \n",
    "for v in values:\n",
    "    if search_value in v:\n",
    "        index = values.index(v)\n",
    "        print(index)\n",
    "        print(keys[index])\n",
    "\n",
    "t = None\n",
    "t = 42\n",
    "if t is not None:\n",
    "    print(\"done\")"
   ]
  },
  {
   "cell_type": "code",
   "execution_count": null,
   "metadata": {},
   "outputs": [],
   "source": [
    "print(lanelets[14].lanelet_id)\n",
    "print(lanelets[14].successor)"
   ]
  }
 ],
 "metadata": {
  "kernelspec": {
   "display_name": "Python 3",
   "language": "python",
   "name": "python3"
  },
  "language_info": {
   "codemirror_mode": {
    "name": "ipython",
    "version": 3
   },
   "file_extension": ".py",
   "mimetype": "text/x-python",
   "name": "python",
   "nbconvert_exporter": "python",
   "pygments_lexer": "ipython3",
   "version": "3.7.4"
  }
 },
 "nbformat": 4,
 "nbformat_minor": 2
}
