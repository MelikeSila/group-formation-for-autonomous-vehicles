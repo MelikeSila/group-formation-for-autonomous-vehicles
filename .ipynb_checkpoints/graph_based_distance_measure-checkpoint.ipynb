{
 "cells": [
  {
   "cell_type": "markdown",
   "metadata": {},
   "source": [
    "## 1. Initial Vertex of the Given Vehicle ( v(c0)):\n",
    "\n",
    "According to paper we have just **initial states** of the vehicles so we just use the **initial states** of the vehicles in the xml file. We will set vehicle's initial states via a method called **setInitialVertextoVehicles** with respect to paper."
   ]
  },
  {
   "cell_type": "code",
   "execution_count": 11,
   "metadata": {},
   "outputs": [],
   "source": [
    "def v( obs):\n",
    "    return obs.initial_state.position"
   ]
  },
  {
   "cell_type": "markdown",
   "metadata": {},
   "source": [
    "### Sample use:\n",
    "#### Read XML file\n",
    "\n",
    "We Assume that we will have a **xml file** which we can read **first initial** state of the vehicles and \n",
    "**lanelet network** of way. We directly took this **reading** from tutorial session."
   ]
  },
  {
   "cell_type": "code",
   "execution_count": 11,
   "metadata": {},
   "outputs": [
    {
     "data": {
      "image/png": "[encoded data removed]",
      "text/plain": [
       "<Figure size 1440x720 with 1 Axes>"
      ]
     },
     "metadata": {
      "needs_background": "light"
     },
     "output_type": "display_data"
    }
   ],
   "source": [
    "import os\n",
    "import matplotlib.pyplot as plt\n",
    "from IPython import display\n",
    "\n",
    "# import functions to read xml file and visualize commonroad objects\n",
    "from commonroad.common.file_reader import CommonRoadFileReader\n",
    "from commonroad.visualization.draw_dispatch_cr import draw_object\n",
    "\n",
    "# generate path of the file to be opened\n",
    "file_path = \"ZAM_Tutorial-1_1_T-1.xml\"\n",
    "\n",
    "# read in the scenario and planning problem set\n",
    "crf = CommonRoadFileReader(file_path)\n",
    "scenario, planning_problem_set = crf.open()\n",
    "\n",
    "# plot the scenario for 40 time step, here each time step corresponds to 0.1 second\n",
    "for i in range(0, 40):\n",
    "    # uncomment to clear previous graph\n",
    "    display.clear_output(wait=True)\n",
    "    \n",
    "    plt.figure(figsize=(20, 10))\n",
    "    # plot the scenario at different time step\n",
    "    draw_object(scenario, draw_params={'time_begin': i})\n",
    "    # plot the planning problem set\n",
    "    draw_object(planning_problem_set)\n",
    "    plt.gca().set_aspect('equal')\n",
    "    plt.show()\n"
   ]
  },
  {
   "cell_type": "code",
   "execution_count": 12,
   "metadata": {},
   "outputs": [
    {
     "name": "stdout",
     "output_type": "stream",
     "text": [
      "2.25\n",
      "3.5\n"
     ]
    }
   ],
   "source": [
    "obstacles = scenario.obstacles\n",
    "for o in obstacles:\n",
    "    x, y = v(o)\n",
    "    print(x)\n",
    "    print(y)"
   ]
  }
 ],
 "metadata": {
  "kernelspec": {
   "display_name": "Python 3",
   "language": "python",
   "name": "python3"
  },
  "language_info": {
   "codemirror_mode": {
    "name": "ipython",
    "version": 3
   },
   "file_extension": ".py",
   "mimetype": "text/x-python",
   "name": "python",
   "nbconvert_exporter": "python",
   "pygments_lexer": "ipython3",
   "version": "3.7.4"
  }
 },
 "nbformat": 4,
 "nbformat_minor": 2
}
