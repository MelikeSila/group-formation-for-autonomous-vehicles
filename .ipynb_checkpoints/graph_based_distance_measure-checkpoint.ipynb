{
 "cells": [
  {
   "cell_type": "markdown",
   "metadata": {},
   "source": [
    "### SAMPLE USAGE\n",
    "#### 1) Read XML file\n",
    "\n",
    "We Assume that we will have a **xml file** which we can read **first initial** state of the vehicles and \n",
    "**lanelet network** of way. We directly took this **reading** from tutorial session."
   ]
  },
  {
   "cell_type": "code",
   "execution_count": 1,
   "metadata": {},
   "outputs": [
    {
     "data": {
      "text/plain": [
       "<Figure size 2000x1000 with 1 Axes>"
      ]
     },
     "metadata": {},
     "output_type": "display_data"
    }
   ],
   "source": [
    "import os\n",
    "import matplotlib.pyplot as plt\n",
    "from IPython import display\n",
    "\n",
    "# import functions to read xml file and visualize commonroad objects\n",
    "from commonroad.common.file_reader import CommonRoadFileReader\n",
    "from commonroad.visualization.draw_dispatch_cr import draw_object\n",
    "\n",
    "# generate path of the file to be opened\n",
    "#file_path = \"ZAM_Tutorial-1_1_T-1.xml\"\n",
    "#file_path = \"ZAM_Tjunction-1_66_T-1.xml\"\n",
    "file_path = \"CHN_Cho-2_1_T-1.xml\"\n",
    "#file_path = \"DEU_A9-1_1_T-1.xml\"\n",
    "\n",
    "# read in the scenario and planning problem set\n",
    "crf = CommonRoadFileReader(file_path)\n",
    "scenario, planning_problem_set = crf.open()\n",
    "\n",
    "# plot the scenario for 40 time step, here each time step corresponds to 0.1 second\n",
    "for i in range(0, 40):\n",
    "    # uncomment to clear previous graph\n",
    "    display.clear_output(wait=True)\n",
    "    \n",
    "    plt.figure(figsize=(20, 10))\n",
    "    # plot the scenario at different time step\n",
    "    draw_object(scenario, draw_params={'time_begin': i})\n",
    "    # plot the planning problem set\n",
    "    draw_object(planning_problem_set)\n",
    "    plt.gca().set_aspect('equal')\n",
    "    plt.show()\n",
    "    break\n"
   ]
  },
  {
   "cell_type": "markdown",
   "metadata": {},
   "source": [
    "#### 2) Create Graph"
   ]
  },
  {
   "cell_type": "code",
   "execution_count": 2,
   "metadata": {
    "scrolled": false
   },
   "outputs": [
    {
     "ename": "ImportError",
     "evalue": "cannot import name 'LaneletNetwork1' from 'commonroad.scenario.lanelet' (/home/melike/anaconda3/lib/python3.7/site-packages/commonroad/scenario/lanelet.py)",
     "output_type": "error",
     "traceback": [
      "\u001b[0;31m---------------------------------------------------------------------------\u001b[0m",
      "\u001b[0;31mImportError\u001b[0m                               Traceback (most recent call last)",
      "\u001b[0;32m<ipython-input-2-b2bf2e9aed3d>\u001b[0m in \u001b[0;36m<module>\u001b[0;34m\u001b[0m\n\u001b[1;32m     21\u001b[0m }\n\u001b[1;32m     22\u001b[0m \u001b[0;34m\u001b[0m\u001b[0m\n\u001b[0;32m---> 23\u001b[0;31m \u001b[0mScenarioGraph\u001b[0m \u001b[0;34m=\u001b[0m \u001b[0mScenarioGraph\u001b[0m\u001b[0;34m(\u001b[0m\u001b[0mscenario\u001b[0m\u001b[0;34m,\u001b[0m \u001b[0mplanning_problem_set\u001b[0m\u001b[0;34m)\u001b[0m\u001b[0;34m\u001b[0m\u001b[0;34m\u001b[0m\u001b[0m\n\u001b[0m\u001b[1;32m     24\u001b[0m \u001b[0mG\u001b[0m \u001b[0;34m=\u001b[0m \u001b[0mScenarioGraph\u001b[0m\u001b[0;34m.\u001b[0m\u001b[0mscenario_graph\u001b[0m\u001b[0;34m\u001b[0m\u001b[0;34m\u001b[0m\u001b[0m\n\u001b[1;32m     25\u001b[0m \u001b[0mlanelets\u001b[0m \u001b[0;34m=\u001b[0m \u001b[0mScenarioGraph\u001b[0m\u001b[0;34m.\u001b[0m\u001b[0mlanelets\u001b[0m\u001b[0;34m\u001b[0m\u001b[0;34m\u001b[0m\u001b[0m\n",
      "\u001b[0;32m~/Documents/TUM/20S/Praktikum/MyPraktikum/CCFCG/group-formation/GraphBasedDistanceMeasure.py\u001b[0m in \u001b[0;36m__init__\u001b[0;34m(self, scenario, planning_problem_set)\u001b[0m\n\u001b[1;32m     15\u001b[0m         \u001b[0mself\u001b[0m\u001b[0;34m.\u001b[0m\u001b[0mfirst_ego_vehicle_id\u001b[0m \u001b[0;34m=\u001b[0m \u001b[0;32mNone\u001b[0m\u001b[0;34m\u001b[0m\u001b[0;34m\u001b[0m\u001b[0m\n\u001b[1;32m     16\u001b[0m         \u001b[0mself\u001b[0m\u001b[0;34m.\u001b[0m\u001b[0mego_vehicle_ids\u001b[0m \u001b[0;34m=\u001b[0m \u001b[0mlist\u001b[0m\u001b[0;34m(\u001b[0m\u001b[0;34m)\u001b[0m\u001b[0;34m\u001b[0m\u001b[0;34m\u001b[0m\u001b[0m\n\u001b[0;32m---> 17\u001b[0;31m         \u001b[0mself\u001b[0m\u001b[0;34m.\u001b[0m\u001b[0mego_vehicles_dic\u001b[0m \u001b[0;34m=\u001b[0m \u001b[0mself\u001b[0m\u001b[0;34m.\u001b[0m\u001b[0m__InitializeEgoVehicleAttributes\u001b[0m\u001b[0;34m(\u001b[0m\u001b[0;34m)\u001b[0m\u001b[0;34m\u001b[0m\u001b[0;34m\u001b[0m\u001b[0m\n\u001b[0m\u001b[1;32m     18\u001b[0m         \u001b[0mself\u001b[0m\u001b[0;34m.\u001b[0m\u001b[0mobstacle_ids\u001b[0m \u001b[0;34m=\u001b[0m \u001b[0mlist\u001b[0m\u001b[0;34m(\u001b[0m\u001b[0;34m)\u001b[0m\u001b[0;34m\u001b[0m\u001b[0;34m\u001b[0m\u001b[0m\n\u001b[1;32m     19\u001b[0m         \u001b[0mself\u001b[0m\u001b[0;34m.\u001b[0m\u001b[0mobstacles_dic\u001b[0m \u001b[0;34m=\u001b[0m \u001b[0mself\u001b[0m\u001b[0;34m.\u001b[0m\u001b[0m__InitializeObstacleAttributes\u001b[0m\u001b[0;34m(\u001b[0m\u001b[0;34m)\u001b[0m\u001b[0;34m\u001b[0m\u001b[0;34m\u001b[0m\u001b[0m\n",
      "\u001b[0;32m~/Documents/TUM/20S/Praktikum/MyPraktikum/CCFCG/group-formation/GraphBasedDistanceMeasure.py\u001b[0m in \u001b[0;36m__InitializeEgoVehicleAttributes\u001b[0;34m(self)\u001b[0m\n\u001b[1;32m    170\u001b[0m     \u001b[0;31m##############################################################################\u001b[0m\u001b[0;34m\u001b[0m\u001b[0;34m\u001b[0m\u001b[0;34m\u001b[0m\u001b[0m\n\u001b[1;32m    171\u001b[0m     \u001b[0;32mdef\u001b[0m \u001b[0m__InitializeEgoVehicleAttributes\u001b[0m\u001b[0;34m(\u001b[0m\u001b[0mself\u001b[0m\u001b[0;34m)\u001b[0m\u001b[0;34m:\u001b[0m\u001b[0;34m\u001b[0m\u001b[0;34m\u001b[0m\u001b[0m\n\u001b[0;32m--> 172\u001b[0;31m         \u001b[0;32mfrom\u001b[0m \u001b[0mcommonroad\u001b[0m\u001b[0;34m.\u001b[0m\u001b[0mscenario\u001b[0m\u001b[0;34m.\u001b[0m\u001b[0mlanelet\u001b[0m \u001b[0;32mimport\u001b[0m \u001b[0mLaneletNetwork1\u001b[0m\u001b[0;34m\u001b[0m\u001b[0;34m\u001b[0m\u001b[0m\n\u001b[0m\u001b[1;32m    173\u001b[0m \u001b[0;34m\u001b[0m\u001b[0m\n\u001b[1;32m    174\u001b[0m         \u001b[0mplanning_problem_set\u001b[0m \u001b[0;34m=\u001b[0m \u001b[0mself\u001b[0m\u001b[0;34m.\u001b[0m\u001b[0mplanning_problem_set\u001b[0m\u001b[0;34m\u001b[0m\u001b[0;34m\u001b[0m\u001b[0m\n",
      "\u001b[0;31mImportError\u001b[0m: cannot import name 'LaneletNetwork1' from 'commonroad.scenario.lanelet' (/home/melike/anaconda3/lib/python3.7/site-packages/commonroad/scenario/lanelet.py)"
     ]
    }
   ],
   "source": [
    "#distance\n",
    "#lanelet_id\n",
    "#adj_left=None, adj_left_same_direction=None, adj_right=None, ad_right_same_direction=None, \n",
    "#predecessor, succesor\n",
    "#line_marking_right_vertices\n",
    "\n",
    "########## Sample Usage CreateLaneletGraph ##########\n",
    "##################################################\n",
    "from GraphBasedDistanceMeasure import ScenarioGraph\n",
    "import networkx as nx\n",
    "\n",
    "options1 = {\n",
    "    'node_color': 'lightgreen',\n",
    "    'node_size': 1000,\n",
    "    'width': 1,\n",
    "}\n",
    "options2 = {\n",
    "    'node_color': 'green',\n",
    "    'node_size': 500,\n",
    "    'width': 1,\n",
    "}\n",
    "\n",
    "ScenarioGraph = ScenarioGraph(scenario, planning_problem_set)\n",
    "G = ScenarioGraph.scenario_graph\n",
    "lanelets = ScenarioGraph.lanelets\n",
    "plt.subplot(121)\n",
    "nx.draw_circular(G.nodes[lanelets[0].lanelet_id]['graph'], with_labels=True, font_weight='bold', **options1) #for reaching the graph of lanelet with id i\n",
    "plt.subplot(122)\n",
    "nx.draw_kamada_kawai(G,with_labels=True, font_weight='bold', **options2)\n",
    "plt.show()"
   ]
  },
  {
   "cell_type": "code",
   "execution_count": null,
   "metadata": {},
   "outputs": [],
   "source": [
    "import matplotlib.pyplot as plt\n",
    "import matplotlib.image as mpimg\n",
    "plt.rcParams['figure.figsize'] = (25.0, 12.5) # set default size of plots\n",
    "img=mpimg.imread('SampleGraph.jpg')\n",
    "imgplot = plt.imshow(img)\n",
    "plt.show()\n"
   ]
  },
  {
   "cell_type": "code",
   "execution_count": null,
   "metadata": {
    "scrolled": false
   },
   "outputs": [],
   "source": [
    "print(G.nodes)\n",
    "plt.rcParams['figure.figsize'] = (20.0, 20.0) # set default size of plots\n",
    "plt.rcParams['image.interpolation'] = 'nearest'\n",
    "plt.rcParams['image.cmap'] = 'gray'\n",
    "nx.draw(G,with_labels=True, font_weight='bold', **options2)\n",
    "plt.show()\n",
    "i = 1\n",
    "for o in scenario.obstacles:\n",
    "    #print(lanelet)\n",
    "    plt.subplot(1, len(scenario.obstacles), i)\n",
    "    lanelet_of_obstacle, node = ScenarioGraph.V(o.obstacle_id)\n",
    "    nx.draw(G.nodes[lanelet_of_obstacle]['graph'], with_labels=True, font_weight='bold', **options1) #for reaching the graph of lanelet with id i\n",
    "    i = i+1\n",
    "plt.show()"
   ]
  },
  {
   "cell_type": "markdown",
   "metadata": {},
   "source": [
    "#### 3) Set Initial Vertex of the Given Vehicles ( v(c0)):\n",
    "\n",
    "According to paper we have just **initial states** of the vehicles so we just use the **initial states** of the vehicles in the xml file. We will set vehicle's initial states via a method called **setInitialVertextoVehicles** with respect to paper."
   ]
  },
  {
   "cell_type": "code",
   "execution_count": null,
   "metadata": {
    "scrolled": false
   },
   "outputs": [],
   "source": [
    "#######  SAMPLE USAGE  #######\n",
    "##########  Vertex  ##########\n",
    "##############################\n",
    "obstacles = scenario.obstacles\n",
    "for o in obstacles:\n",
    "    print(\"obstacle id: \", o.obstacle_id)\n",
    "    lanelet, node= ScenarioGraph.V(o.obstacle_id)\n",
    "    print(\"initial lanelet: \", lanelet, \"| initial node of the obstacle in the lanelet: \", node)\n",
    "    print(\"_______________________\")\n",
    "    break\n",
    "    "
   ]
  },
  {
   "cell_type": "code",
   "execution_count": null,
   "metadata": {
    "scrolled": false
   },
   "outputs": [],
   "source": [
    "###################### SAMPLE USAGE ############################\n",
    "##########  R(v(c)): reachable points of an obstacle  ##########\n",
    "################################################################\n",
    "for o in obstacles:\n",
    "    v1, node = ScenarioGraph.V(o.obstacle_id)\n",
    "    print(\"vehicle id: \", o.obstacle_id)\n",
    "    print(\"initial lanelet id: \", v1)\n",
    "    print(\"initial node of the initial lanelet: \", node)\n",
    "    print()\n",
    "    print(\"R(v1): \", ScenarioGraph.R(v1))\n",
    "    print(\"______________________________________________\")\n",
    "    break"
   ]
  },
  {
   "cell_type": "code",
   "execution_count": null,
   "metadata": {},
   "outputs": [],
   "source": [
    "#################### SAMPLE USAGE #########################\n",
    "########## M(v(c0), v(c1)) = R(v(c0)) n R (v(c1)) ##########\n",
    "###########################################################\n",
    "#c0 = obstacles[3]\n",
    "c0 = obstacles[0].obstacle_id  # obstacle 1 ve 2 icin calis bunlar son laneletteler. it can cause a bug\n",
    "c1 = obstacles[4].obstacle_id\n",
    "#c1 = obstacles[6]\n",
    "v1, node1 = ScenarioGraph.V(c0) \n",
    "v2, node2 = ScenarioGraph.V(c1)\n",
    "print(\"initial 1:\", v1, node1)\n",
    "print(\"initial 2:\", v2, node2)\n",
    "r1, r2 = dict(), dict()\n",
    "r1 = ScenarioGraph.R(v1)\n",
    "r2 = ScenarioGraph.R(v2)\n",
    "# also check initial states because they can meet at last lanelet\n",
    "\n",
    "print(\"reachable points 1: \", r1)\n",
    "print(\"reachable points 2: \", r2)\n",
    "common_vertices = []\n",
    "\n",
    "vm = ScenarioGraph.M(v1,v2)\n",
    "print(\"meeting point: \", vm)"
   ]
  },
  {
   "cell_type": "code",
   "execution_count": null,
   "metadata": {},
   "outputs": [],
   "source": [
    "####################### SAMPLE USAGE ##############################\n",
    "########## Ps(v(c1), vm ) shortest path from v(c1) to vm ##########\n",
    "###################################################################\n",
    "v1 = ScenarioGraph.V(c0)[0]\n",
    "v2 = ScenarioGraph.V(c1)[0]\n",
    "vm = ScenarioGraph.M(v1, v2)\n",
    "\n",
    "#v1, v2, vm\n",
    "\n",
    "ps1 = ScenarioGraph.P(v1, vm)\n",
    "ps2 = ScenarioGraph.P(v2, vm)\n",
    "\n",
    "print(\"Shortest path of first vehicle: \", ps1, \"\\nShortest path of second vehicle:\", ps2)"
   ]
  },
  {
   "cell_type": "code",
   "execution_count": null,
   "metadata": {},
   "outputs": [],
   "source": [
    "####################### SAMPLE USAGE ######################################\n",
    "########## D(P1, P2) returns the maximum distance for P1 and P2  ##########\n",
    "###########################################################################\n",
    "distance = ScenarioGraph.D(c0, c1)\n",
    "print(distance)"
   ]
  },
  {
   "cell_type": "code",
   "execution_count": null,
   "metadata": {},
   "outputs": [],
   "source": [
    "\n",
    "v1 = ScenarioGraph.V(c0)[0]\n",
    "v2 = ScenarioGraph.V(c1)[0]\n",
    "vm = ScenarioGraph.M(v1, v2)\n",
    "\n",
    "print(\"initial v1\\t| node1 \\t| node_distance | lanelet_distance: \")\n",
    "print(v1, \"\\t\\t| \", node1, \"\\t\\t| \", int(G.nodes[v1]['graph'].nodes[node1]['distance']), \"\\t\\t| \", int(G.nodes[v1]['weight']))\n",
    "print(v2, \"\\t\\t| \", node2, \"\\t\\t| \", int(G.nodes[v2]['graph'].nodes[node2]['distance']), \"\\t\\t| \", int(G.nodes[v2]['weight']))\n",
    "print(\"meeting vertex vm: \", vm)\n",
    "\n",
    "ps1 = ScenarioGraph.P(v1, vm)\n",
    "ps2 = ScenarioGraph.P(v2, vm)\n",
    "#for ps1:\n",
    "\n",
    "print()\n",
    "print(\"______________________________________________________\")\n",
    "print(\"shortest paths to vm from v1:\\t\", ps1)\n",
    "if ps1:\n",
    "    for lanelet in ps1:\n",
    "        print(\" \\t\\t\\t\\t lanelet\", lanelet, \" weight: \", int(G.nodes[lanelet]['weight']))\n",
    "print(\"shortest paths to vm from v2:\\t\", ps2)\n",
    "if ps2:\n",
    "    for lanelet in ps2:\n",
    "        print(\" \\t\\t\\t\\t lanelet\", lanelet, \" weight: \", int(G.nodes[lanelet]['weight']))\n",
    "print(\"distance between v1 and v2  :\\t\", distance)\n"
   ]
  },
  {
   "cell_type": "code",
   "execution_count": null,
   "metadata": {},
   "outputs": [],
   "source": [
    "from GraphBasedDistanceMeasure import ScenarioGraph\n",
    "from commonroad.common.file_reader import CommonRoadFileReader\n",
    "import networkx as nx\n",
    "import matplotlib.pyplot as plt\n",
    "\n",
    "# generate path of the file to be opened\n",
    "#file_path = \"ZAM_Tutorial-1_1_T-1.xml\"\n",
    "#file_path2 = \"ZAM_Tjunction-1_66_T-1.xml\"\n",
    "file_path = \"CHN_Cho-2_1_T-1.xml\"\n",
    "file_path2 = \"DEU_A9-1_1_T-1.xml\"\n",
    "\n",
    "# read in the scenario and planning problem set\n",
    "crf = CommonRoadFileReader(file_path)\n",
    "scenario, planning_problem_set = crf.open()\n",
    "\n",
    "crf2 = CommonRoadFileReader(file_path2)\n",
    "scenario2, planning_problem_set2 = crf2.open()\n",
    "\n",
    "#for graph attributes\n",
    "options1 = {\n",
    "    'node_color': 'lightgreen',\n",
    "    'node_size': 1000,\n",
    "    'width': 1,\n",
    "}\n",
    "\n",
    "options2 = {\n",
    "    'node_color': 'green',\n",
    "    'node_size': 500,\n",
    "    'width': 1,\n",
    "}\n",
    "\n",
    "plt.rcParams['figure.figsize'] = (20.0, 20.0) # set default size of plots\n",
    "plt.rcParams['image.interpolation'] = 'nearest'\n",
    "plt.rcParams['image.cmap'] = 'gray'\n",
    "\n",
    "#################################BRIEF USAGE###############################################\n",
    "###########################################################################################\n",
    "#############################GBDM Sample Usage ############################################\n",
    "###########################################################################################\n",
    "#Creata an ScenariGraph object\n",
    "SG_1 = ScenarioGraph(scenario, planning_problem_set)\n",
    "SG_2 = ScenarioGraph(scenario2, planning_problem_set2)\n",
    "#SG_1.CreateLaneletGraph()  #you dont need to create graph. It created in constructer method\n",
    "\n",
    "plt.subplot(1, 2, 1)\n",
    "nx.draw(SG_1.scenario_graph,with_labels=True, font_weight='bold', **options1)\n",
    "plt.subplot(1, 2, 2)\n",
    "nx.draw(SG_2.scenario_graph,with_labels=True, font_weight='bold', **options2)\n",
    "plt.show()"
   ]
  },
  {
   "cell_type": "code",
   "execution_count": null,
   "metadata": {},
   "outputs": [],
   "source": [
    "###########################################################################################\n",
    "############# Sample Usage of public attributes of ScenarioGraph  #########################\n",
    "###########################################################################################\n",
    "######### ego vehicle ids and obstacle ids of spesified scenario(SG_1)     ################\n",
    "######### dictionary structure                                             ################\n",
    "######### {<id_of_vehicle_obstacle: {    \"id_of_vehicle_obstacle\": id,     ################\n",
    "#########                                \"initial_position\": position,     ################\n",
    "#########                                \"initial_lanelet_id\": lanelet  }} ################\n",
    "###########################################################################################\n",
    "print(SG_1.ego_vehicle_ids)\n",
    "print(\"_________________________________________________\")\n",
    "print(SG_1.ego_vehicles_dic)\n",
    "print(\"_________________________________________________\")\n",
    "print(SG_1.obstacle_ids)\n",
    "print(\"_________________________________________________\")\n",
    "print(SG_1.obstacles_dic)"
   ]
  },
  {
   "cell_type": "code",
   "execution_count": null,
   "metadata": {},
   "outputs": [],
   "source": [
    "ov = SG_1.obstacle_ids + SG_1.ego_vehicle_ids\n",
    "    \n",
    "for k in ov:\n",
    "    print(\"obstacle id: \", k)\n",
    "    print((SG_1.V(k)))\n"
   ]
  }
 ],
 "metadata": {
  "kernelspec": {
   "display_name": "Python 3",
   "language": "python",
   "name": "python3"
  },
  "language_info": {
   "codemirror_mode": {
    "name": "ipython",
    "version": 3
   },
   "file_extension": ".py",
   "mimetype": "text/x-python",
   "name": "python",
   "nbconvert_exporter": "python",
   "pygments_lexer": "ipython3",
   "version": "3.7.4"
  }
 },
 "nbformat": 4,
 "nbformat_minor": 2
}
